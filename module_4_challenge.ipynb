{
 "cells": [
  {
   "cell_type": "markdown",
   "id": "dc0318d6",
   "metadata": {
    "editable": true,
    "slideshow": {
     "slide_type": ""
    },
    "tags": []
   },
   "source": [
    "## Part 1: Explore the Data\n",
    "\n",
    "Import the data and use Pandas to learn more about the dataset."
   ]
  },
  {
   "cell_type": "code",
   "execution_count": null,
   "id": "e076f57f",
   "metadata": {
    "tags": []
   },
   "outputs": [],
   "source": [
    "import pandas as pd\n",
    "\n",
    "df = pd.read_csv('Resources/client_dataset.csv')\n",
    "\n",
    "df.head()"
   ]
  },
  {
   "cell_type": "code",
   "execution_count": null,
   "id": "71b9bbd2",
   "metadata": {
    "tags": []
   },
   "outputs": [],
   "source": [
    "# View the column names in the data\n",
    "\n",
    "df.columns"
   ]
  },
  {
   "cell_type": "code",
   "execution_count": null,
   "id": "bc0f4172",
   "metadata": {
    "tags": []
   },
   "outputs": [],
   "source": [
    "# Use the describe function to gather some basic statistics\n",
    "\n",
    "df.describe()"
   ]
  },
  {
   "cell_type": "code",
   "execution_count": null,
   "id": "b24b53cc",
   "metadata": {},
   "outputs": [],
   "source": [
    "# Use this space to do any additional research\n",
    "# and familiarize yourself with the data.\n",
    "\n",
    "## common commands to get additional information about the data\n",
    "\n",
    "df.shape"
   ]
  },
  {
   "cell_type": "code",
   "execution_count": null,
   "id": "91e3346a-4a93-4882-ac2a-8189e5f81482",
   "metadata": {},
   "outputs": [],
   "source": [
    "df.info()"
   ]
  },
  {
   "cell_type": "code",
   "execution_count": null,
   "id": "1fa64541-fad8-4d54-9801-8f9b7d1bc81b",
   "metadata": {},
   "outputs": [],
   "source": [
    "df.count()"
   ]
  },
  {
   "cell_type": "code",
   "execution_count": null,
   "id": "769ae647-94ef-4e51-89c5-50bdedefc733",
   "metadata": {},
   "outputs": [],
   "source": [
    "## notes to self:\n",
    "\n",
    "## most methods return a vew of the original data, to make a copy:\n",
    "## deepcopy = df.copy()\n",
    "## shallowcopy = df.copy(deep=False)\n",
    "\n",
    "## (\"row\", \"column\") notation in loc and iloc\n",
    "## iloc needs index values\n",
    "## loc row data and column name"
   ]
  },
  {
   "cell_type": "code",
   "execution_count": null,
   "id": "551cb358",
   "metadata": {},
   "outputs": [],
   "source": [
    "# What three item categories had the most entries?\n",
    "\n",
    "cat_counts = df[\"category\"].value_counts()\n",
    "## To try to make my output match perfectly, adjusting a few series attributes\n",
    "cat_counts.index.name = None\n",
    "cat_counts.name = \"category\"\n",
    "cat_counts.head(3)"
   ]
  },
  {
   "cell_type": "code",
   "execution_count": null,
   "id": "5f54e2cf",
   "metadata": {},
   "outputs": [],
   "source": [
    "# For the category with the most entries,\n",
    "# which subcategory had the most entries?\n",
    "\n",
    "## filter dataframe for just top category (cat_counts.index[0])\n",
    "top_cat = df.loc[ df[\"category\"] == cat_counts.index[0]]\n",
    "## and count same as before\n",
    "top_cat_counts = top_cat[\"subcategory\"].value_counts()\n",
    "## To try to make my output match perfectly, adjusting a few series attributes\n",
    "top_cat_counts.index.name = None\n",
    "top_cat_counts.name = \"subcategory\"\n",
    "top_cat_counts.head(1)"
   ]
  },
  {
   "cell_type": "code",
   "execution_count": null,
   "id": "2db94379",
   "metadata": {},
   "outputs": [],
   "source": [
    "# Which five clients had the most entries in the data?\n",
    "\n",
    "top_clients = df[\"client_id\"].value_counts().head(5)\n",
    "## To try to make my output match perfectly, adjusting a few series attributes\n",
    "top_clients.index.name = None\n",
    "top_clients.name = \"client_id\"\n",
    "top_clients"
   ]
  },
  {
   "cell_type": "code",
   "execution_count": null,
   "id": "a6635601",
   "metadata": {},
   "outputs": [],
   "source": [
    "# Store the client ids of those top 5 clients in a list.\n",
    "\n",
    "top_cli_list = list(top_clients.index)\n",
    "top_cli_list"
   ]
  },
  {
   "cell_type": "code",
   "execution_count": null,
   "id": "c88b8a3e",
   "metadata": {},
   "outputs": [],
   "source": [
    "# How many total units (the qty column) did the\n",
    "# client with the most entries order order?\n",
    "\n",
    "## filter dataframe for just top client (top_cli_list[0])\n",
    "top_client = df.loc[ df[\"client_id\"] == top_cli_list[0]]\n",
    "## sum the qty column of filtered\n",
    "top_qty = top_client[\"qty\"].sum()\n",
    "top_qty"
   ]
  },
  {
   "cell_type": "markdown",
   "id": "257fcd7d",
   "metadata": {},
   "source": [
    "## Part 2: Transform the Data\n",
    "Do we know that this client spent the more money than client 66037? If not, how would we find out? Transform the data using the steps below to prepare it for analysis."
   ]
  },
  {
   "cell_type": "code",
   "execution_count": null,
   "id": "0c25c4a8",
   "metadata": {},
   "outputs": [],
   "source": [
    "# Create a column that calculates the \n",
    "# subtotal for each line using the unit_price\n",
    "# and the qty\n",
    "\n",
    "## append subtotal column to full data set\n",
    "df[\"line_subtotal\"] = df[\"unit_price\"] * df[\"qty\"]\n",
    "\n",
    "## display only snippet based on starter code file\n",
    "df[[\"unit_price\" , \"qty\", \"line_subtotal\"]].head(2)"
   ]
  },
  {
   "cell_type": "code",
   "execution_count": null,
   "id": "ac9dafc8",
   "metadata": {},
   "outputs": [],
   "source": [
    "# Create a column for shipping price.\n",
    "# Assume a shipping price of $7 per pound\n",
    "# for orders over 50 pounds and $10 per\n",
    "# pound for items 50 pounds or under.\n",
    "\n",
    "## first calcualte total weights\n",
    "df[\"total_weight\"] = df[\"unit_weight\"] * df[\"qty\"]\n",
    "\n",
    "## could perhaps use a lambda function here to distinguish weight differnces\n",
    "## but the logic on this two step solution was easier for me\n",
    "\n",
    "## append shipping column and set to $10/lb for anything total weight 50lb and under\n",
    "df.loc[df[\"total_weight\"] <= 50, \"shipping_price\"] = df[\"total_weight\"] * 10\n",
    "\n",
    "## now set anything total weight over 50lb to shipping $7/lb\n",
    "df.loc[df[\"total_weight\"] > 50, \"shipping_price\"] = df[\"total_weight\"] * 7\n",
    "\n",
    "## display snippet based on starter file output\n",
    "df[[\"unit_price\", \"unit_weight\", \"qty\", \"total_weight\", \"shipping_price\"]].head(3)"
   ]
  },
  {
   "cell_type": "code",
   "execution_count": null,
   "id": "77f42c67",
   "metadata": {},
   "outputs": [],
   "source": [
    "# Create a column for the total price\n",
    "# using the subtotal and the shipping price\n",
    "# along with a sales tax of 9.25%\n",
    "\n",
    "## append total (line price) column with rounded sum of subtotal, shipping, tax\n",
    "df[\"line_price\"] = round((df[\"line_subtotal\"] + df[\"shipping_price\"]) * 1.0925, 2)\n",
    "\n",
    "## and display snippet based on starter file output\n",
    "df[[\"line_subtotal\", \"shipping_price\", \"line_price\"]].head(3)"
   ]
  },
  {
   "cell_type": "code",
   "execution_count": null,
   "id": "c82ad275",
   "metadata": {},
   "outputs": [],
   "source": [
    "# Create a column for the cost\n",
    "# of each line using unit cost, qty, and\n",
    "# shipping price (assume the shipping cost\n",
    "# is exactly what is charged to the client).\n",
    "\n",
    "## append manufacturing total (line cost) column with appropriate values\n",
    "df[\"line_cost\"] = (df[\"unit_cost\"] * df[\"qty\"]) + df[\"shipping_price\"]\n",
    "\n",
    "## again display as per original\n",
    "df.head(3)"
   ]
  },
  {
   "cell_type": "code",
   "execution_count": null,
   "id": "e2389018",
   "metadata": {},
   "outputs": [],
   "source": [
    "# Create a column for the profit of\n",
    "# each line using line cost and line price\n",
    "\n",
    "## append calculated profit column\n",
    "df[\"line_profit\"] = df[\"line_price\"] - df[\"line_cost\"]\n",
    "\n",
    "## again display as per original\n",
    "df.head(3)"
   ]
  },
  {
   "cell_type": "markdown",
   "id": "ef6f62b1",
   "metadata": {},
   "source": [
    "## Part 3: Confirm your work\n",
    "You have email receipts showing that the total prices for 3 orders. Confirm that your calculations match the receipts. Remember, each order has multiple lines.\n",
    "\n",
    "Order ID 2742071 had a total price of \\$152,811.89\n",
    "\n",
    "Order ID 2173913 had a total price of \\$162,388.71\n",
    "\n",
    "Order ID 6128929 had a total price of \\$923,441.25\n"
   ]
  },
  {
   "cell_type": "code",
   "execution_count": null,
   "id": "c0e5d68e",
   "metadata": {},
   "outputs": [],
   "source": [
    "# Check your work using the totals above\n",
    "\n",
    "## sum all approrpriate rows for each of the IDs\n",
    "id2742071 = round(sum(df.loc[df[\"order_id\"] == 2742071][\"line_price\"]), 2)\n",
    "id2173913 = round(sum(df.loc[df[\"order_id\"] == 2173913][\"line_price\"]), 2)\n",
    "id6128929 = round(sum(df.loc[df[\"order_id\"] == 6128929][\"line_price\"]), 2)\n",
    "\n",
    "## finally format the value check\n",
    "print(f\"\"\"Order 2742071 total: ${id2742071}\n",
    "Order 2173913 total: ${id2173913}\n",
    "Order 6128929 total: ${id6128929}\"\"\")"
   ]
  },
  {
   "cell_type": "markdown",
   "id": "b94d58ab",
   "metadata": {},
   "source": [
    "## Part 4: Summarize and Analyze\n",
    "Use the new columns with confirmed values to find the following information."
   ]
  },
  {
   "cell_type": "code",
   "execution_count": null,
   "id": "7c005f34",
   "metadata": {},
   "outputs": [],
   "source": [
    "# How much did each of the top 5 clients by quantity\n",
    "# spend? Check your work from Part 1 for client ids.\n",
    "\n",
    "## Loop through top clients from Part 1 and sum line totals then print\n",
    "for client in top_cli_list:\n",
    "    cli_total = round(sum(df.loc[df[\"client_id\"] == client][\"line_price\"]), 2)\n",
    "    print(f\"{client}: ${cli_total}\")"
   ]
  },
  {
   "cell_type": "code",
   "execution_count": null,
   "id": "81b6e4d2",
   "metadata": {},
   "outputs": [],
   "source": [
    "# Create a summary DataFrame showing the totals for the\n",
    "# for the top 5 clients with the following information:\n",
    "# total units purchased, total shipping price,\n",
    "# total revenue, and total profit. Sort by total profit.\n",
    "\n",
    "## loop through top clients and total rows setting up list of dictionaries for new dataframe\n",
    "dict_lst = []\n",
    "for client in top_cli_list:\n",
    "    total_units = sum(df.loc[df[\"client_id\"] == client][\"qty\"])\n",
    "    total_shipping = round(sum(df.loc[df[\"client_id\"] == client][\"shipping_price\"]), 2)\n",
    "    total_revenue = round(sum(df.loc[df[\"client_id\"] == client][\"line_price\"]), 2)\n",
    "    total_profit = round(sum(df.loc[df[\"client_id\"] == client][\"line_profit\"]), 2)\n",
    "    ## oops didn't see this in the directions, but it is on the original output\n",
    "    total_cost = round(sum(df.loc[df[\"client_id\"] == client][\"line_cost\"]), 2)\n",
    "    ## could have put the nicer column names here and skip some the next step\n",
    "    ## but I want my output to perfectly match the original\n",
    "    client_totals = {\"client_id\" : client,\n",
    "                     \"qty\" : total_units,\n",
    "                     \"shipping_price\" : total_shipping,\n",
    "                     \"line_price\" : total_revenue,\n",
    "                     \"line_cost\" : total_cost,\n",
    "                     \"line_profit\" : total_profit\n",
    "    }\n",
    "    dict_lst.append(client_totals)\n",
    "\n",
    "## make summary dataframe from list of dictionaries\n",
    "summary_df = pd.DataFrame(dict_lst)\n",
    "\n",
    "## sort it by total profit\n",
    "summary_df.sort_values(\"line_profit\", ascending=False, inplace=True)\n",
    "\n",
    "## and output full smmary table\n",
    "summary_df"
   ]
  },
  {
   "cell_type": "code",
   "execution_count": null,
   "id": "7be02867",
   "metadata": {},
   "outputs": [],
   "source": [
    "# Format the data and rename the columns\n",
    "# to names suitable for presentation.\n",
    "# Currency should be in millions of dollars.\n",
    "\n",
    "## when there are few columns this method is easier than .rename()\n",
    "summary_df.columns = [\"Client ID\", \"Units\", \"Shipping\", \"Total Revenue\", \"Total Cost\", \"Total Profit\"]\n",
    "\n",
    "## simplify each column values to millions\n",
    "summary_df[\"Shipping\"] = round(summary_df[\"Shipping\"]/1000000, 2)\n",
    "summary_df[\"Total Revenue\"] = round(summary_df[\"Total Revenue\"]/1000000, 2)\n",
    "summary_df[\"Total Cost\"] = round(summary_df[\"Total Cost\"]/1000000, 2)\n",
    "summary_df[\"Total Profit\"] = round(summary_df[\"Total Profit\"]/1000000, 2)\n",
    "\n",
    "## Convert colum types to string\n",
    "summary_df[\"Shipping\"] = summary_df[\"Shipping\"].astype(\"string\")\n",
    "summary_df[\"Total Revenue\"] = summary_df[\"Total Revenue\"].astype(\"string\")\n",
    "summary_df[\"Total Cost\"] = summary_df[\"Total Cost\"].astype(\"string\")\n",
    "summary_df[\"Total Profit\"] = summary_df[\"Total Profit\"].astype(\"string\")\n",
    "\n",
    "## function to add '$' and 'M' to all, and maybe '0'\n",
    "def add_txt(amount):\n",
    "    if amount[-2] == '.':\n",
    "        # apparently astype(\"string\") drops ending 0\n",
    "        amount_str = \"$\" + amount + \"0M\"\n",
    "    else:\n",
    "        amount_str = \"$\" + amount + \"M\"\n",
    "    return amount_str\n",
    "\n",
    "## apply the add_text function to each column\n",
    "summary_df[\"Shipping\"] = summary_df[\"Shipping\"].apply(add_txt)\n",
    "summary_df[\"Total Revenue\"] = summary_df[\"Total Revenue\"].apply(add_txt)\n",
    "summary_df[\"Total Cost\"] = summary_df[\"Total Cost\"].apply(add_txt)\n",
    "summary_df[\"Total Profit\"] = summary_df[\"Total Profit\"].apply(add_txt)"
   ]
  },
  {
   "cell_type": "code",
   "execution_count": null,
   "id": "8ead0986",
   "metadata": {},
   "outputs": [],
   "source": [
    "# Sort the updated data by \"Total Profit\" form highest to lowest\n",
    "\n",
    "## Not sure this is really needed as I sorted \"inplace\" above\n",
    "summary_df.sort_values(\"Total Profit\", ascending=False, inplace=True)\n",
    "\n",
    "## and final output full summar table\n",
    "summary_df"
   ]
  },
  {
   "cell_type": "markdown",
   "id": "73286566",
   "metadata": {},
   "source": [
    "# Summary\n",
    "While client 33615 ordered items most frequently, we find that the next four clients by number of orders spent a lot more money.  In fact, client 24741 spent more than six times the next closest client, 38378, and nearly 10 times that of client 33615.  We also made an 44% profit margin on sales to client 24741, better than the 25–32% margin of the other top clients.  Finally, I would suggest we find a new shipper or negotiate a better rate.  When our clients are spending multi-millions in shipping costs alone, we are doing them a disservice."
   ]
  }
 ],
 "metadata": {
  "kernelspec": {
   "display_name": "dev",
   "language": "python",
   "name": "python3"
  },
  "language_info": {
   "codemirror_mode": {
    "name": "ipython",
    "version": 3
   },
   "file_extension": ".py",
   "mimetype": "text/x-python",
   "name": "python",
   "nbconvert_exporter": "python",
   "pygments_lexer": "ipython3",
   "version": "3.10.13"
  }
 },
 "nbformat": 4,
 "nbformat_minor": 5
}
